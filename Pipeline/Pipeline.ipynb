{
 "cells": [
  {
   "cell_type": "code",
   "execution_count": 13,
   "metadata": {
    "collapsed": false
   },
   "outputs": [
    {
     "name": "stdout",
     "output_type": "stream",
     "text": [
      "The autoreload extension is already loaded. To reload it, use:\n",
      "  %reload_ext autoreload\n"
     ]
    }
   ],
   "source": [
    "# reload source files automatically\n",
    "%load_ext autoreload\n",
    "%autoreload 2\n",
    "\n",
    "import math as math\n",
    "import numpy as np\n",
    "import pandas as pd\n",
    "import matplotlib.pyplot as plt\n",
    "\n",
    "from python.loading import *\n",
    "from python.feature_generation import *\n",
    "from python.classifier import *\n",
    "from python.evaluation import *"
   ]
  },
  {
   "cell_type": "code",
   "execution_count": 14,
   "metadata": {
    "collapsed": true
   },
   "outputs": [],
   "source": [
    "train_X0, train_Y, test_X0, test_Y = load_training_data(benchmark='benchmark3')"
   ]
  },
  {
   "cell_type": "code",
   "execution_count": 15,
   "metadata": {
    "collapsed": true
   },
   "outputs": [],
   "source": [
    "def example_feature(data):\n",
    "    #just add a feature which contains only ones as an example\n",
    "    feature = pd.Series(np.ones(len(data)))\n",
    "    #return the Series and a column name\n",
    "    return feature, \"example\""
   ]
  },
  {
   "cell_type": "code",
   "execution_count": 16,
   "metadata": {
    "collapsed": true
   },
   "outputs": [],
   "source": [
    "features = [example_feature]\n",
    "train_X1, test_X1 = generate_features(features, train_X0, test_X0)"
   ]
  },
  {
   "cell_type": "code",
   "execution_count": 17,
   "metadata": {
    "collapsed": true
   },
   "outputs": [],
   "source": [
    "def example_ydependent_feature(train_X, train_Y, test_X):\n",
    "    #just add a feature which contains the mean death probability\n",
    "    mean = train_Y.mean()\n",
    "    feature_train = np.full(len(train_X), mean)\n",
    "    feature_test = np.full(len(test_X), mean)\n",
    "    return pd.Series(feature_train), pd.Series(feature_test), \"example2\""
   ]
  },
  {
   "cell_type": "code",
   "execution_count": 18,
   "metadata": {
    "collapsed": true
   },
   "outputs": [],
   "source": [
    "ydependent_features = [example_ydependent_feature]\n",
    "train_X2, test_X2 = generate_Y_dependent_features(ydependent_features, train_X1, train_Y, test_X1)"
   ]
  },
  {
   "cell_type": "code",
   "execution_count": 19,
   "metadata": {
    "collapsed": true
   },
   "outputs": [],
   "source": [
    "#Da die scikitlearn-Classifier nur auf numerischen Daten arbeiten, werden hier alle features gelöscht,\n",
    "#die noch Null-Werte oder Strings enthalten. Dies sind: 'name','ticket','cabin','home.dest','boat'\n",
    "train_X, test_X = drop_non_numeric_columns(train_X2, test_X2)"
   ]
  },
  {
   "cell_type": "code",
   "execution_count": 20,
   "metadata": {
    "collapsed": true
   },
   "outputs": [],
   "source": [
    "predictions = []\n",
    "#Der MostFrequent-Classifier sagt für jeden Datensatz aus den Test-Daten\n",
    "#die am häufigsten vorkommende Klasse der Trainingsdaten vorraus\n",
    "most_frequent_clf = MostFrequent()\n",
    "#Zunächst muss der Classifier mit den Trainingsdaten trainiert werden\n",
    "most_frequent_clf.train(train_X, train_Y['survived'])\n",
    "#Anhand des trainierten Modells werden die Klassen der Testdatensätze vorhergesagt\n",
    "predictions.append(('most frequent',most_frequent_clf.predict(test_X)))"
   ]
  },
  {
   "cell_type": "code",
   "execution_count": 21,
   "metadata": {
    "collapsed": true
   },
   "outputs": [],
   "source": [
    "#Ein weiterer Classifier, um die Ergebnisse vergleichen zu können\n",
    "from sklearn.tree import DecisionTreeClassifier\n",
    "decision_tree_clf = Classifier(DecisionTreeClassifier())\n",
    "decision_tree_clf.train(train_X, train_Y['survived'])\n",
    "predictions.append(('decision tree',decision_tree_clf.predict(test_X)))"
   ]
  },
  {
   "cell_type": "code",
   "execution_count": 22,
   "metadata": {
    "collapsed": false
   },
   "outputs": [
    {
     "data": {
      "text/html": [
       "<div>\n",
       "<table border=\"1\" class=\"dataframe\">\n",
       "  <thead>\n",
       "    <tr style=\"text-align: right;\">\n",
       "      <th></th>\n",
       "      <th>name</th>\n",
       "      <th>accuracy</th>\n",
       "      <th>predicted 0, was 0</th>\n",
       "      <th>predicted 0, was 1</th>\n",
       "      <th>predicted 1, was 0</th>\n",
       "      <th>predicted 1, was 1</th>\n",
       "    </tr>\n",
       "  </thead>\n",
       "  <tbody>\n",
       "    <tr>\n",
       "      <th>0</th>\n",
       "      <td>most frequent</td>\n",
       "      <td>0.606667</td>\n",
       "      <td>182</td>\n",
       "      <td>118</td>\n",
       "      <td>0</td>\n",
       "      <td>0</td>\n",
       "    </tr>\n",
       "    <tr>\n",
       "      <th>1</th>\n",
       "      <td>decision tree</td>\n",
       "      <td>0.726667</td>\n",
       "      <td>144</td>\n",
       "      <td>44</td>\n",
       "      <td>38</td>\n",
       "      <td>74</td>\n",
       "    </tr>\n",
       "  </tbody>\n",
       "</table>\n",
       "</div>"
      ],
      "text/plain": [
       "            name  accuracy  predicted 0, was 0  predicted 0, was 1  \\\n",
       "0  most frequent  0.606667                 182                 118   \n",
       "1  decision tree  0.726667                 144                  44   \n",
       "\n",
       "   predicted 1, was 0  predicted 1, was 1  \n",
       "0                   0                   0  \n",
       "1                  38                  74  "
      ]
     },
     "execution_count": 22,
     "metadata": {},
     "output_type": "execute_result"
    }
   ],
   "source": [
    "#Überprüfe, wie gut die Vorhersagen des Classifiers waren\n",
    "evaluate(predictions, test_Y['survived'])"
   ]
  },
  {
   "cell_type": "code",
   "execution_count": null,
   "metadata": {
    "collapsed": true
   },
   "outputs": [],
   "source": []
  }
 ],
 "metadata": {
  "anaconda-cloud": {},
  "kernelspec": {
   "display_name": "Python [default]",
   "language": "python",
   "name": "python3"
  },
  "language_info": {
   "codemirror_mode": {
    "name": "ipython",
    "version": 3
   },
   "file_extension": ".py",
   "mimetype": "text/x-python",
   "name": "python",
   "nbconvert_exporter": "python",
   "pygments_lexer": "ipython3",
   "version": "3.5.2"
  }
 },
 "nbformat": 4,
 "nbformat_minor": 2
}
